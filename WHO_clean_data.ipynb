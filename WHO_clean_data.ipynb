{
 "cells": [
  {
   "cell_type": "code",
   "execution_count": 45,
   "metadata": {},
   "outputs": [],
   "source": [
    "import pandas as pd\n",
    "import numpy as np"
   ]
  },
  {
   "cell_type": "code",
   "execution_count": 46,
   "metadata": {},
   "outputs": [],
   "source": [
    "path = \"WHO_Disaster_Data.xlsx\"\n",
    "data_text = pd.read_excel(path, sheet_name='data-text')\n",
    "country = pd.read_excel(path, sheet_name='Country')"
   ]
  },
  {
   "cell_type": "code",
   "execution_count": 47,
   "metadata": {},
   "outputs": [],
   "source": [
    "who_data = pd.DataFrame(data_text)\n",
    "who_country = pd.DataFrame(country)"
   ]
  },
  {
   "cell_type": "code",
   "execution_count": 48,
   "metadata": {},
   "outputs": [
    {
     "data": {
      "text/plain": [
       "['PUBLISH STATES (string)',\n",
       " 'Year (string)',\n",
       " 'WHO region (string)',\n",
       " 'Country (string)',\n",
       " 'Sex (string)',\n",
       " 'Average death rate due to natural disasters (per 100 000 population) (string)',\n",
       " 'Average death rate due to natural disasters (per 100 000 population) (numeric)',\n",
       " 'Average death rate due to natural disasters (per 100 000 population) (comment)']"
      ]
     },
     "execution_count": 48,
     "metadata": {},
     "output_type": "execute_result"
    }
   ],
   "source": [
    "list(data_text)"
   ]
  },
  {
   "cell_type": "code",
   "execution_count": 49,
   "metadata": {},
   "outputs": [
    {
     "data": {
      "text/html": [
       "<div>\n",
       "<style scoped>\n",
       "    .dataframe tbody tr th:only-of-type {\n",
       "        vertical-align: middle;\n",
       "    }\n",
       "\n",
       "    .dataframe tbody tr th {\n",
       "        vertical-align: top;\n",
       "    }\n",
       "\n",
       "    .dataframe thead th {\n",
       "        text-align: right;\n",
       "    }\n",
       "</style>\n",
       "<table border=\"1\" class=\"dataframe\">\n",
       "  <thead>\n",
       "    <tr style=\"text-align: right;\">\n",
       "      <th></th>\n",
       "      <th>Year</th>\n",
       "      <th>Country</th>\n",
       "      <th>Gender</th>\n",
       "    </tr>\n",
       "  </thead>\n",
       "  <tbody>\n",
       "    <tr>\n",
       "      <th>0</th>\n",
       "      <td>2012-2016</td>\n",
       "      <td>Algeria</td>\n",
       "      <td>Male</td>\n",
       "    </tr>\n",
       "    <tr>\n",
       "      <th>1</th>\n",
       "      <td>2012-2016</td>\n",
       "      <td>Algeria</td>\n",
       "      <td>Female</td>\n",
       "    </tr>\n",
       "    <tr>\n",
       "      <th>2</th>\n",
       "      <td>2012-2016</td>\n",
       "      <td>Algeria</td>\n",
       "      <td>Both sexes</td>\n",
       "    </tr>\n",
       "    <tr>\n",
       "      <th>3</th>\n",
       "      <td>2012-2016</td>\n",
       "      <td>Angola</td>\n",
       "      <td>Male</td>\n",
       "    </tr>\n",
       "    <tr>\n",
       "      <th>4</th>\n",
       "      <td>2012-2016</td>\n",
       "      <td>Angola</td>\n",
       "      <td>Female</td>\n",
       "    </tr>\n",
       "  </tbody>\n",
       "</table>\n",
       "</div>"
      ],
      "text/plain": [
       "        Year  Country      Gender\n",
       "0  2012-2016  Algeria        Male\n",
       "1  2012-2016  Algeria      Female\n",
       "2  2012-2016  Algeria  Both sexes\n",
       "3  2012-2016   Angola        Male\n",
       "4  2012-2016   Angola      Female"
      ]
     },
     "execution_count": 49,
     "metadata": {},
     "output_type": "execute_result"
    }
   ],
   "source": [
    "whocc = data_text[['Year (string)','Country (string)', 'Sex (string)']]\n",
    "\n",
    "renamed = whocc.rename(columns={'Year (string)': 'Year',\n",
    "                      'Country (string)': 'Country', \n",
    "                      'Sex (string)': 'Gender'})\n",
    "renamed.head()"
   ]
  },
  {
   "cell_type": "code",
   "execution_count": 50,
   "metadata": {},
   "outputs": [
    {
     "data": {
      "text/plain": [
       "['Code',\n",
       " 'DisplayValue',\n",
       " 'URL',\n",
       " 'DS',\n",
       " 'FIPS',\n",
       " 'IOC',\n",
       " 'ISO2',\n",
       " 'ISO',\n",
       " 'ITU',\n",
       " 'MARC',\n",
       " 'WHO',\n",
       " 'WMO',\n",
       " 'GEOMETRY',\n",
       " 'MORT',\n",
       " 'LAND_AREA_KMSQ_2012',\n",
       " 'LANGUAGES_EN_2012',\n",
       " 'WHO_REGION',\n",
       " 'WHO_REGION_CODE',\n",
       " 'World Bank income group',\n",
       " 'World Bank income group code',\n",
       " 'SHORTNAMEES',\n",
       " 'SHORTNAMEFR',\n",
       " 'WHOLEGALSTATUS',\n",
       " 'World Bank income group GNI reference year',\n",
       " 'World Bank income group release date']"
      ]
     },
     "execution_count": 50,
     "metadata": {},
     "output_type": "execute_result"
    }
   ],
   "source": [
    "list(country)"
   ]
  },
  {
   "cell_type": "code",
   "execution_count": 52,
   "metadata": {},
   "outputs": [
    {
     "data": {
      "text/html": [
       "<div>\n",
       "<style scoped>\n",
       "    .dataframe tbody tr th:only-of-type {\n",
       "        vertical-align: middle;\n",
       "    }\n",
       "\n",
       "    .dataframe tbody tr th {\n",
       "        vertical-align: top;\n",
       "    }\n",
       "\n",
       "    .dataframe thead th {\n",
       "        text-align: right;\n",
       "    }\n",
       "</style>\n",
       "<table border=\"1\" class=\"dataframe\">\n",
       "  <thead>\n",
       "    <tr style=\"text-align: right;\">\n",
       "      <th></th>\n",
       "      <th>Country</th>\n",
       "      <th>Mortality</th>\n",
       "      <th>Land Area</th>\n",
       "      <th>Region</th>\n",
       "    </tr>\n",
       "  </thead>\n",
       "  <tbody>\n",
       "    <tr>\n",
       "      <th>0</th>\n",
       "      <td>Afghanistan</td>\n",
       "      <td>3010.0</td>\n",
       "      <td>652,230</td>\n",
       "      <td>Eastern Mediterranean</td>\n",
       "    </tr>\n",
       "    <tr>\n",
       "      <th>1</th>\n",
       "      <td>Albania</td>\n",
       "      <td>4005.0</td>\n",
       "      <td>27,400</td>\n",
       "      <td>Europe</td>\n",
       "    </tr>\n",
       "    <tr>\n",
       "      <th>2</th>\n",
       "      <td>Algeria</td>\n",
       "      <td>1010.0</td>\n",
       "      <td>2,381,740</td>\n",
       "      <td>Africa</td>\n",
       "    </tr>\n",
       "    <tr>\n",
       "      <th>3</th>\n",
       "      <td>Angola</td>\n",
       "      <td>1020.0</td>\n",
       "      <td>1,246,700</td>\n",
       "      <td>Africa</td>\n",
       "    </tr>\n",
       "    <tr>\n",
       "      <th>4</th>\n",
       "      <td>Antigua and Barbuda</td>\n",
       "      <td>2010.0</td>\n",
       "      <td>440</td>\n",
       "      <td>Americas</td>\n",
       "    </tr>\n",
       "  </tbody>\n",
       "</table>\n",
       "</div>"
      ],
      "text/plain": [
       "               Country  Mortality  Land Area                 Region\n",
       "0          Afghanistan     3010.0    652,230  Eastern Mediterranean\n",
       "1              Albania     4005.0     27,400                 Europe\n",
       "2              Algeria     1010.0  2,381,740                 Africa\n",
       "3               Angola     1020.0  1,246,700                 Africa\n",
       "4  Antigua and Barbuda     2010.0        440               Americas"
      ]
     },
     "execution_count": 52,
     "metadata": {},
     "output_type": "execute_result"
    }
   ],
   "source": [
    "whocountry = who_country[['DisplayValue','MORT','LAND_AREA_KMSQ_2012', 'WHO_REGION']]\n",
    "\n",
    "country_rename = whocountry.rename(columns={'DisplayValue': 'Country',\n",
    "                                            'MORT': 'Mortality',\n",
    "                                              'LAND_AREA_KMSQ_2012': 'Land Area', \n",
    "                                              'WHO_REGION': 'Region'})\n",
    "country_rename.head()"
   ]
  },
  {
   "cell_type": "code",
   "execution_count": 53,
   "metadata": {},
   "outputs": [],
   "source": [
    "combine = pd.merge(country_rename, renamed, on=\"Country\")"
   ]
  },
  {
   "cell_type": "code",
   "execution_count": 61,
   "metadata": {},
   "outputs": [
    {
     "data": {
      "text/html": [
       "<div>\n",
       "<style scoped>\n",
       "    .dataframe tbody tr th:only-of-type {\n",
       "        vertical-align: middle;\n",
       "    }\n",
       "\n",
       "    .dataframe tbody tr th {\n",
       "        vertical-align: top;\n",
       "    }\n",
       "\n",
       "    .dataframe thead th {\n",
       "        text-align: right;\n",
       "    }\n",
       "</style>\n",
       "<table border=\"1\" class=\"dataframe\">\n",
       "  <thead>\n",
       "    <tr style=\"text-align: right;\">\n",
       "      <th></th>\n",
       "      <th>Country</th>\n",
       "      <th>Mortality</th>\n",
       "      <th>Land Area</th>\n",
       "      <th>Region</th>\n",
       "      <th>Year</th>\n",
       "      <th>Gender</th>\n",
       "    </tr>\n",
       "  </thead>\n",
       "  <tbody>\n",
       "    <tr>\n",
       "      <th>2</th>\n",
       "      <td>Afghanistan</td>\n",
       "      <td>3010.0</td>\n",
       "      <td>652,230</td>\n",
       "      <td>Eastern Mediterranean</td>\n",
       "      <td>2012-2016</td>\n",
       "      <td>Both sexes</td>\n",
       "    </tr>\n",
       "    <tr>\n",
       "      <th>5</th>\n",
       "      <td>Albania</td>\n",
       "      <td>4005.0</td>\n",
       "      <td>27,400</td>\n",
       "      <td>Europe</td>\n",
       "      <td>2012-2016</td>\n",
       "      <td>Both sexes</td>\n",
       "    </tr>\n",
       "    <tr>\n",
       "      <th>8</th>\n",
       "      <td>Algeria</td>\n",
       "      <td>1010.0</td>\n",
       "      <td>2,381,740</td>\n",
       "      <td>Africa</td>\n",
       "      <td>2012-2016</td>\n",
       "      <td>Both sexes</td>\n",
       "    </tr>\n",
       "    <tr>\n",
       "      <th>11</th>\n",
       "      <td>Angola</td>\n",
       "      <td>1020.0</td>\n",
       "      <td>1,246,700</td>\n",
       "      <td>Africa</td>\n",
       "      <td>2012-2016</td>\n",
       "      <td>Both sexes</td>\n",
       "    </tr>\n",
       "    <tr>\n",
       "      <th>14</th>\n",
       "      <td>Antigua and Barbuda</td>\n",
       "      <td>2010.0</td>\n",
       "      <td>440</td>\n",
       "      <td>Americas</td>\n",
       "      <td>2012-2016</td>\n",
       "      <td>Both sexes</td>\n",
       "    </tr>\n",
       "  </tbody>\n",
       "</table>\n",
       "</div>"
      ],
      "text/plain": [
       "                Country  Mortality  Land Area                 Region  \\\n",
       "2           Afghanistan     3010.0    652,230  Eastern Mediterranean   \n",
       "5               Albania     4005.0     27,400                 Europe   \n",
       "8               Algeria     1010.0  2,381,740                 Africa   \n",
       "11               Angola     1020.0  1,246,700                 Africa   \n",
       "14  Antigua and Barbuda     2010.0        440               Americas   \n",
       "\n",
       "         Year      Gender  \n",
       "2   2012-2016  Both sexes  \n",
       "5   2012-2016  Both sexes  \n",
       "8   2012-2016  Both sexes  \n",
       "11  2012-2016  Both sexes  \n",
       "14  2012-2016  Both sexes  "
      ]
     },
     "execution_count": 61,
     "metadata": {},
     "output_type": "execute_result"
    }
   ],
   "source": [
    "#redcc[(redcc[\"KPI_Year\"]>=2012)]\n",
    "finalwho = combine[(combine['Gender'] =='Both sexes')]\n",
    "finalwho.head()"
   ]
  },
  {
   "cell_type": "code",
   "execution_count": 62,
   "metadata": {},
   "outputs": [],
   "source": [
    "finalwho.to_csv(\"who_clean.csv\")"
   ]
  },
  {
   "cell_type": "code",
   "execution_count": null,
   "metadata": {},
   "outputs": [],
   "source": []
  }
 ],
 "metadata": {
  "kernelspec": {
   "display_name": "Python 3",
   "language": "python",
   "name": "python3"
  },
  "language_info": {
   "codemirror_mode": {
    "name": "ipython",
    "version": 3
   },
   "file_extension": ".py",
   "mimetype": "text/x-python",
   "name": "python",
   "nbconvert_exporter": "python",
   "pygments_lexer": "ipython3",
   "version": "3.6.8"
  }
 },
 "nbformat": 4,
 "nbformat_minor": 2
}
